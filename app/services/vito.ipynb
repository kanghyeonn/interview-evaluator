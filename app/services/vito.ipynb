{
 "cells": [
  {
   "cell_type": "code",
   "execution_count": 17,
   "id": "99256f6b",
   "metadata": {},
   "outputs": [],
   "source": [
    "import json\n",
    "import requests\n",
    "import os\n",
    "from dotenv import load_dotenv\n",
    "from getJwtTokent import get_token\n",
    "\n",
    "load_dotenv()\n",
    "\n",
    "\n",
    "def get_transcribe_id():\n",
    "    # JWT 토큰을 환경변수에서 읽기\n",
    "    jwt_token = os.getenv(\"JWT_TOKEN\")\n",
    "    if not jwt_token:\n",
    "        raise ValueError(\"환경변수 'YOUR_JWT_TOKEN'이 설정되지 않았습니다.\")\n",
    "\n",
    "    config = {\n",
    "    \"use_diarization\": True,\n",
    "    \"diarization\": {\n",
    "        \"spk_count\": 1\n",
    "    },\n",
    "    \"use_itn\": False,\n",
    "    \"use_disfluency_filter\": False,\n",
    "    \"use_profanity_filter\": False,\n",
    "    \"use_paragraph_splitter\": True,\n",
    "    \"paragraph_splitter\": {\n",
    "        \"max\": 50\n",
    "    }\n",
    "    }\n",
    "    resp = requests.post(\n",
    "        'https://openapi.vito.ai/v1/transcribe',\n",
    "        headers={'Authorization': f'Bearer {jwt_token}'},\n",
    "        data={'config': json.dumps(config)},\n",
    "        files={'file': open(r'C:\\Users\\UserK\\AppData\\Local\\Temp\\tmp63ci_9kv.wav', 'rb')}\n",
    "    )\n",
    "    resp.raise_for_status()\n",
    "    print(resp.json())\n",
    "    return resp.json()"
   ]
  },
  {
   "cell_type": "code",
   "execution_count": 18,
   "id": "c252a703",
   "metadata": {},
   "outputs": [
    {
     "name": "stdout",
     "output_type": "stream",
     "text": [
      "{'id': 'EzwI-AaDRQCp4SZgj06MrQ'}\n",
      "🎯 추출된 ID: EzwI-AaDRQCp4SZgj06MrQ\n"
     ]
    }
   ],
   "source": [
    "result = get_transcribe_id()\n",
    "transcribe_id = result[\"id\"]\n",
    "print(\"🎯 추출된 ID:\", transcribe_id)\n"
   ]
  },
  {
   "cell_type": "code",
   "execution_count": 1,
   "id": "35cf2d18",
   "metadata": {},
   "outputs": [
    {
     "name": "stdout",
     "output_type": "stream",
     "text": [
      "{'id': 'vmFaciShQ-WE74VhBxgl1Q', 'status': 'completed', 'results': {'utterances': [{'start_at': 1354, 'duration': 10299, 'spk': 0, 'spk_type': 'NORMAL', 'msg': '아, 안녕하세요. 데이터로 문제의 문질을 찾고 해결 방안을 제시하는 분석가 박미라입니다. 어 어, 저는.'}, {'start_at': 11953, 'duration': 15100, 'spk': 0, 'spk_type': 'NORMAL', 'msg': '통계와 프로그래밍 기반의 분석 역량을 바탕으로 실제 데이터를 통해 어 음 고객 데 고객 행동과 비즈니스 성과를 분석해 본 경험이 있습니다.'}, {'start_at': 28833, 'duration': 16511, 'spk': 0, 'spk_type': 'NORMAL', 'msg': '특히 팀 프로젝트에서는 데이터 전처리부터 시각화 인사이트 도출까지 주도하며 문제해결 과정에 아, 그 흐름을 전체적으로 설계했습니다.'}], 'verified': False}}\n"
     ]
    }
   ],
   "source": [
    "import requests\n",
    "import os\n",
    "from dotenv import load_dotenv\n",
    "\n",
    "load_dotenv()\n",
    "\n",
    "resp = requests.get(\n",
    "    'https://openapi.vito.ai/v1/transcribe/'+'vmFaciShQ-WE74VhBxgl1Q',\n",
    "    headers={'Authorization': 'bearer '+ os.getenv(\"JWT_TOKEN\")},\n",
    ")\n",
    "resp.raise_for_status()\n",
    "print(resp.json())"
   ]
  }
 ],
 "metadata": {
  "kernelspec": {
   "display_name": "venv",
   "language": "python",
   "name": "python3"
  },
  "language_info": {
   "codemirror_mode": {
    "name": "ipython",
    "version": 3
   },
   "file_extension": ".py",
   "mimetype": "text/x-python",
   "name": "python",
   "nbconvert_exporter": "python",
   "pygments_lexer": "ipython3",
   "version": "3.13.3"
  }
 },
 "nbformat": 4,
 "nbformat_minor": 5
}
